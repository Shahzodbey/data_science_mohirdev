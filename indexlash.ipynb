{
  "nbformat": 4,
  "nbformat_minor": 0,
  "metadata": {
    "colab": {
      "name": "indexlash.ipynb",
      "provenance": [],
      "collapsed_sections": [],
      "authorship_tag": "ABX9TyO0GNqGQ704KPVCxvkkOlz/",
      "include_colab_link": true
    },
    "kernelspec": {
      "name": "python3",
      "display_name": "Python 3"
    },
    "language_info": {
      "name": "python"
    }
  },
  "cells": [
    {
      "cell_type": "markdown",
      "metadata": {
        "id": "view-in-github",
        "colab_type": "text"
      },
      "source": [
        "<a href=\"https://colab.research.google.com/github/Shahzodbey/data_science_mohirdev/blob/main/indexlash.ipynb\" target=\"_parent\"><img src=\"https://colab.research.google.com/assets/colab-badge.svg\" alt=\"Open In Colab\"/></a>"
      ]
    },
    {
      "cell_type": "code",
      "execution_count": 1,
      "metadata": {
        "id": "9n-iwsWJfmyR"
      },
      "outputs": [],
      "source": [
        "import numpy as np"
      ]
    },
    {
      "cell_type": "code",
      "source": [
        "arr = np.arange(10, 100, 10)\n",
        "arr[1]"
      ],
      "metadata": {
        "colab": {
          "base_uri": "https://localhost:8080/"
        },
        "id": "lkL73EdYgy0R",
        "outputId": "21384f0a-dd55-4ee7-9af2-e74293aec7c5"
      },
      "execution_count": 2,
      "outputs": [
        {
          "output_type": "execute_result",
          "data": {
            "text/plain": [
              "20"
            ]
          },
          "metadata": {},
          "execution_count": 2
        }
      ]
    },
    {
      "cell_type": "markdown",
      "source": [
        "## Indexlash"
      ],
      "metadata": {
        "id": "bM1LY5uahWcg"
      }
    },
    {
      "cell_type": "code",
      "source": [
        "arr[3:5] # arr ni 3 dan 5 gacha elementlarini kesadi, bunda 5 ozi kirmaydi."
      ],
      "metadata": {
        "colab": {
          "base_uri": "https://localhost:8080/"
        },
        "id": "W2iwKEt5g5n-",
        "outputId": "0b52df61-379f-481b-ab56-a88f267d4c1a"
      },
      "execution_count": 4,
      "outputs": [
        {
          "output_type": "execute_result",
          "data": {
            "text/plain": [
              "array([40, 50])"
            ]
          },
          "metadata": {},
          "execution_count": 4
        }
      ]
    },
    {
      "cell_type": "code",
      "source": [
        "sliced_arr = arr[3:5]\n",
        "sliced_arr"
      ],
      "metadata": {
        "colab": {
          "base_uri": "https://localhost:8080/"
        },
        "id": "Bkzj-U7ahg-p",
        "outputId": "584285b8-a81d-4d05-c278-2c1beb6bdf7b"
      },
      "execution_count": 5,
      "outputs": [
        {
          "output_type": "execute_result",
          "data": {
            "text/plain": [
              "array([40, 50])"
            ]
          },
          "metadata": {},
          "execution_count": 5
        }
      ]
    },
    {
      "cell_type": "code",
      "source": [
        "sliced_arr[:] = 0 # agar kesib olingan elementlarni ozgartirsak bu asosiy array ga ham ta'sir qiladi.\n",
        "arr"
      ],
      "metadata": {
        "colab": {
          "base_uri": "https://localhost:8080/"
        },
        "id": "T50XZAkBiG4M",
        "outputId": "18c3b529-a945-4575-f6a7-08d77d85c6f9"
      },
      "execution_count": 7,
      "outputs": [
        {
          "output_type": "execute_result",
          "data": {
            "text/plain": [
              "array([10, 20, 30,  0,  0, 60, 70, 80, 90])"
            ]
          },
          "metadata": {},
          "execution_count": 7
        }
      ]
    },
    {
      "cell_type": "code",
      "source": [
        "arr1 = np.arange(10, 100, 10)\n",
        "arr1"
      ],
      "metadata": {
        "colab": {
          "base_uri": "https://localhost:8080/"
        },
        "id": "ifYEK4nJiMNS",
        "outputId": "2c76f81e-f344-4dd5-8aaa-10ae0768199d"
      },
      "execution_count": 8,
      "outputs": [
        {
          "output_type": "execute_result",
          "data": {
            "text/plain": [
              "array([10, 20, 30, 40, 50, 60, 70, 80, 90])"
            ]
          },
          "metadata": {},
          "execution_count": 8
        }
      ]
    },
    {
      "cell_type": "code",
      "source": [
        "sliced_arr1 = arr1[3:5].copy()\n",
        "sliced_arr1"
      ],
      "metadata": {
        "colab": {
          "base_uri": "https://localhost:8080/"
        },
        "id": "xX1GUSCrittJ",
        "outputId": "ca36b825-a48d-40a3-d731-f1aee4e59e39"
      },
      "execution_count": 9,
      "outputs": [
        {
          "output_type": "execute_result",
          "data": {
            "text/plain": [
              "array([40, 50])"
            ]
          },
          "metadata": {},
          "execution_count": 9
        }
      ]
    },
    {
      "cell_type": "code",
      "source": [
        "sliced_arr1[:] = 1 # agar kesishda copy() dan foydalansak asosiy array o'zgarmaydi.\n",
        "arr1"
      ],
      "metadata": {
        "colab": {
          "base_uri": "https://localhost:8080/"
        },
        "id": "LZC330eoi4Mt",
        "outputId": "6518cb0e-03e5-46e9-a450-1777e75c3d00"
      },
      "execution_count": 11,
      "outputs": [
        {
          "output_type": "execute_result",
          "data": {
            "text/plain": [
              "array([10, 20, 30, 40, 50, 60, 70, 80, 90])"
            ]
          },
          "metadata": {},
          "execution_count": 11
        }
      ]
    },
    {
      "cell_type": "code",
      "source": [
        "arr2 = np.array([[1, 2, 3], [4, 5, 6], [7, 8, 9]])\n",
        "arr2"
      ],
      "metadata": {
        "colab": {
          "base_uri": "https://localhost:8080/"
        },
        "id": "xPOTN6HkjBrK",
        "outputId": "94243bf1-a4cd-41ce-c54d-5e6ee9cefef5"
      },
      "execution_count": 14,
      "outputs": [
        {
          "output_type": "execute_result",
          "data": {
            "text/plain": [
              "array([[1, 2, 3],\n",
              "       [4, 5, 6],\n",
              "       [7, 8, 9]])"
            ]
          },
          "metadata": {},
          "execution_count": 14
        }
      ]
    },
    {
      "cell_type": "code",
      "source": [
        "arr2[-1,:] # 2 olchamli array larni kesishda row va column indexini beramiz"
      ],
      "metadata": {
        "colab": {
          "base_uri": "https://localhost:8080/"
        },
        "id": "Zc1b3US2kDrW",
        "outputId": "ee2b40eb-6dd3-46b7-f067-be54818face1"
      },
      "execution_count": 18,
      "outputs": [
        {
          "output_type": "execute_result",
          "data": {
            "text/plain": [
              "array([7, 8, 9])"
            ]
          },
          "metadata": {},
          "execution_count": 18
        }
      ]
    },
    {
      "cell_type": "code",
      "source": [
        "arr2[2, -2:]"
      ],
      "metadata": {
        "colab": {
          "base_uri": "https://localhost:8080/"
        },
        "id": "ybpkaCGmkOiP",
        "outputId": "f1a2ddbc-6a34-404c-85c2-80a993ca38c7"
      },
      "execution_count": 19,
      "outputs": [
        {
          "output_type": "execute_result",
          "data": {
            "text/plain": [
              "array([8, 9])"
            ]
          },
          "metadata": {},
          "execution_count": 19
        }
      ]
    },
    {
      "cell_type": "code",
      "source": [
        "arr3 = np.arange(27).reshape(3, 3, 3)\n",
        "arr3"
      ],
      "metadata": {
        "colab": {
          "base_uri": "https://localhost:8080/"
        },
        "id": "WYCOHc65lEvW",
        "outputId": "a96a7cdc-a0c6-4ea9-f5a1-db1533450b7a"
      },
      "execution_count": 20,
      "outputs": [
        {
          "output_type": "execute_result",
          "data": {
            "text/plain": [
              "array([[[ 0,  1,  2],\n",
              "        [ 3,  4,  5],\n",
              "        [ 6,  7,  8]],\n",
              "\n",
              "       [[ 9, 10, 11],\n",
              "        [12, 13, 14],\n",
              "        [15, 16, 17]],\n",
              "\n",
              "       [[18, 19, 20],\n",
              "        [21, 22, 23],\n",
              "        [24, 25, 26]]])"
            ]
          },
          "metadata": {},
          "execution_count": 20
        }
      ]
    },
    {
      "cell_type": "code",
      "source": [
        "arr3[1, :, 1] # agar 3d array bolsa layer row column ketma-ketligida beramiz"
      ],
      "metadata": {
        "colab": {
          "base_uri": "https://localhost:8080/"
        },
        "id": "JjKkqTYdmNRL",
        "outputId": "afb1f3f0-e740-4361-ea25-a01b60dec0db"
      },
      "execution_count": 25,
      "outputs": [
        {
          "output_type": "execute_result",
          "data": {
            "text/plain": [
              "array([10, 13, 16])"
            ]
          },
          "metadata": {},
          "execution_count": 25
        }
      ]
    },
    {
      "cell_type": "code",
      "source": [
        "arr3[1][:, 1] # list elementlaridek kesib olish"
      ],
      "metadata": {
        "colab": {
          "base_uri": "https://localhost:8080/"
        },
        "id": "-097V_bkmTgV",
        "outputId": "e5fef3f3-b87a-44cc-e453-b19e1299022f"
      },
      "execution_count": 26,
      "outputs": [
        {
          "output_type": "execute_result",
          "data": {
            "text/plain": [
              "array([10, 13, 16])"
            ]
          },
          "metadata": {},
          "execution_count": 26
        }
      ]
    },
    {
      "cell_type": "code",
      "source": [
        "arr3[2, :, 0]"
      ],
      "metadata": {
        "colab": {
          "base_uri": "https://localhost:8080/"
        },
        "id": "Dzmwgmn5mxcC",
        "outputId": "b38122a9-c648-47b1-bbec-e34e284fcc5e"
      },
      "execution_count": 28,
      "outputs": [
        {
          "output_type": "execute_result",
          "data": {
            "text/plain": [
              "array([18, 21, 24])"
            ]
          },
          "metadata": {},
          "execution_count": 28
        }
      ]
    },
    {
      "cell_type": "markdown",
      "source": [
        "## Boolean indexlash"
      ],
      "metadata": {
        "id": "f2DPcknsrzmX"
      }
    },
    {
      "cell_type": "code",
      "source": [
        "ismlar = np.array(['Hasan', 'Husan', 'Mirzabek', 'Elyorbek', 'Hasan', 'Javohir', 'Elyorbek'])\n",
        "ismlar"
      ],
      "metadata": {
        "colab": {
          "base_uri": "https://localhost:8080/"
        },
        "id": "NAmGh5YprByQ",
        "outputId": "5859d009-d974-45e4-b4ac-2cb71e1c1beb"
      },
      "execution_count": 31,
      "outputs": [
        {
          "output_type": "execute_result",
          "data": {
            "text/plain": [
              "array(['Hasan', 'Husan', 'Mirzabek', 'Elyorbek', 'Hasan', 'Javohir',\n",
              "       'Elyorbek'], dtype='<U8')"
            ]
          },
          "metadata": {},
          "execution_count": 31
        }
      ]
    },
    {
      "cell_type": "code",
      "source": [
        "data = np.random.randn(7, 4) # randn ga shape ni berib data oldik.\n",
        "data"
      ],
      "metadata": {
        "colab": {
          "base_uri": "https://localhost:8080/"
        },
        "id": "63glnykBsE_6",
        "outputId": "ae77549c-7fe9-4bcc-bad8-774793571f9e"
      },
      "execution_count": 33,
      "outputs": [
        {
          "output_type": "execute_result",
          "data": {
            "text/plain": [
              "array([[ 0.44618237,  0.16227232,  0.9816614 ,  0.5259195 ],\n",
              "       [-0.13249842,  0.58998188, -0.76867065,  1.37256217],\n",
              "       [ 0.30307075,  0.37463983,  0.77651861,  0.78088023],\n",
              "       [ 2.05114987,  1.99162582,  0.81463679,  0.63103198],\n",
              "       [-1.74485675,  0.82667376,  0.492443  ,  0.35167432],\n",
              "       [-0.51141529,  1.43566729,  0.85527238,  0.3900393 ],\n",
              "       [-0.86176719, -0.79774308, -0.72657322,  2.03498687]])"
            ]
          },
          "metadata": {},
          "execution_count": 33
        }
      ]
    },
    {
      "cell_type": "code",
      "source": [
        "ismlar == 'Hasan' # Hasan ga teng bolgan elemnent indexlarini True qilib qaytaradi."
      ],
      "metadata": {
        "colab": {
          "base_uri": "https://localhost:8080/"
        },
        "id": "jysngyXcswal",
        "outputId": "5ac702cb-bc7c-465f-9513-73cc7f0ec903"
      },
      "execution_count": 35,
      "outputs": [
        {
          "output_type": "execute_result",
          "data": {
            "text/plain": [
              "array([ True, False, False, False,  True, False, False])"
            ]
          },
          "metadata": {},
          "execution_count": 35
        }
      ]
    },
    {
      "cell_type": "code",
      "source": [
        "data[ismlar == 'Hasan'] # Hasan ga tegishli ma'lumotlarni olish"
      ],
      "metadata": {
        "colab": {
          "base_uri": "https://localhost:8080/"
        },
        "id": "4FbSJ5xdtfFU",
        "outputId": "dc640ad7-8694-46e2-8d6c-1a55c03af5c2"
      },
      "execution_count": 36,
      "outputs": [
        {
          "output_type": "execute_result",
          "data": {
            "text/plain": [
              "array([[ 0.44618237,  0.16227232,  0.9816614 ,  0.5259195 ],\n",
              "       [-1.74485675,  0.82667376,  0.492443  ,  0.35167432]])"
            ]
          },
          "metadata": {},
          "execution_count": 36
        }
      ]
    },
    {
      "cell_type": "code",
      "source": [
        "data[ismlar == 'Husan']"
      ],
      "metadata": {
        "colab": {
          "base_uri": "https://localhost:8080/"
        },
        "id": "Fix8X5HLtv3j",
        "outputId": "831fb1cf-9816-44f1-d505-df34618e48db"
      },
      "execution_count": 37,
      "outputs": [
        {
          "output_type": "execute_result",
          "data": {
            "text/plain": [
              "array([[-0.13249842,  0.58998188, -0.76867065,  1.37256217]])"
            ]
          },
          "metadata": {},
          "execution_count": 37
        }
      ]
    },
    {
      "cell_type": "code",
      "source": [
        "data[ismlar=='Hasan', -2:] # Hasanga tegishli oxirgi 2 ustundagi ma'lumotlarni kesish"
      ],
      "metadata": {
        "colab": {
          "base_uri": "https://localhost:8080/"
        },
        "id": "t6oVNPd0uEpJ",
        "outputId": "007800d0-bd31-4fc6-e03d-dcfd15a3dd38"
      },
      "execution_count": 40,
      "outputs": [
        {
          "output_type": "execute_result",
          "data": {
            "text/plain": [
              "array([[0.9816614 , 0.5259195 ],\n",
              "       [0.492443  , 0.35167432]])"
            ]
          },
          "metadata": {},
          "execution_count": 40
        }
      ]
    },
    {
      "cell_type": "code",
      "source": [
        "data[ismlar == 'Husan', :3] # Husan ga tegishli birinchi 3 ustunni kesib olish"
      ],
      "metadata": {
        "colab": {
          "base_uri": "https://localhost:8080/"
        },
        "id": "FqnhnoZAu0nT",
        "outputId": "4f5806d6-08ef-482d-e9a5-614b050e3d78"
      },
      "execution_count": 42,
      "outputs": [
        {
          "output_type": "execute_result",
          "data": {
            "text/plain": [
              "array([[-0.13249842,  0.58998188, -0.76867065]])"
            ]
          },
          "metadata": {},
          "execution_count": 42
        }
      ]
    },
    {
      "cell_type": "code",
      "source": [
        "data[ismlar=='Hasan', :2]"
      ],
      "metadata": {
        "colab": {
          "base_uri": "https://localhost:8080/"
        },
        "id": "FSyfNAApvNVn",
        "outputId": "7e38cf3c-884a-457f-b9e1-18c45a5202dc"
      },
      "execution_count": 48,
      "outputs": [
        {
          "output_type": "execute_result",
          "data": {
            "text/plain": [
              "array([[ 0.44618237,  0.16227232],\n",
              "       [-1.74485675,  0.82667376]])"
            ]
          },
          "metadata": {},
          "execution_count": 48
        }
      ]
    },
    {
      "cell_type": "code",
      "source": [
        "data[ismlar != 'Hasan'] # Hasan dan tashqari barcha ma'lumotlar"
      ],
      "metadata": {
        "colab": {
          "base_uri": "https://localhost:8080/"
        },
        "id": "oM2ms-AMveD5",
        "outputId": "65b43990-22f6-456c-882f-18290f9d9408"
      },
      "execution_count": 49,
      "outputs": [
        {
          "output_type": "execute_result",
          "data": {
            "text/plain": [
              "array([[-0.13249842,  0.58998188, -0.76867065,  1.37256217],\n",
              "       [ 0.30307075,  0.37463983,  0.77651861,  0.78088023],\n",
              "       [ 2.05114987,  1.99162582,  0.81463679,  0.63103198],\n",
              "       [-0.51141529,  1.43566729,  0.85527238,  0.3900393 ],\n",
              "       [-0.86176719, -0.79774308, -0.72657322,  2.03498687]])"
            ]
          },
          "metadata": {},
          "execution_count": 49
        }
      ]
    },
    {
      "cell_type": "code",
      "source": [
        "data[~(ismlar == 'Hasan')] # ~ orqali shartni teskari qilib olish"
      ],
      "metadata": {
        "colab": {
          "base_uri": "https://localhost:8080/"
        },
        "id": "-DTbLQ5pv_iu",
        "outputId": "fdfcac7c-4cb5-431b-8fa7-ddfc5d92b8c4"
      },
      "execution_count": 51,
      "outputs": [
        {
          "output_type": "execute_result",
          "data": {
            "text/plain": [
              "array([[-0.13249842,  0.58998188, -0.76867065,  1.37256217],\n",
              "       [ 0.30307075,  0.37463983,  0.77651861,  0.78088023],\n",
              "       [ 2.05114987,  1.99162582,  0.81463679,  0.63103198],\n",
              "       [-0.51141529,  1.43566729,  0.85527238,  0.3900393 ],\n",
              "       [-0.86176719, -0.79774308, -0.72657322,  2.03498687]])"
            ]
          },
          "metadata": {},
          "execution_count": 51
        }
      ]
    },
    {
      "cell_type": "code",
      "source": [
        "ismlar"
      ],
      "metadata": {
        "colab": {
          "base_uri": "https://localhost:8080/"
        },
        "id": "vhhD9W5ewtas",
        "outputId": "a82cd93e-bb36-4626-a532-fc3636d3e3ca"
      },
      "execution_count": 59,
      "outputs": [
        {
          "output_type": "execute_result",
          "data": {
            "text/plain": [
              "array(['Hasan', 'Husan', 'Mirzabek', 'Elyorbek', 'Hasan', 'Javohir',\n",
              "       'Elyorbek'], dtype='<U8')"
            ]
          },
          "metadata": {},
          "execution_count": 59
        }
      ]
    },
    {
      "cell_type": "code",
      "source": [
        "mask = (ismlar == 'Husan') | (ismlar == 'Javohir') # birnechta shart berish uchun | or degan ma'noni beradi."
      ],
      "metadata": {
        "id": "C2AAHGvxxKsv"
      },
      "execution_count": 62,
      "outputs": []
    },
    {
      "cell_type": "code",
      "source": [
        "data[mask] # mask orqali Husan va Javohir ga tegishli ma'lumotlarni oldik."
      ],
      "metadata": {
        "colab": {
          "base_uri": "https://localhost:8080/"
        },
        "id": "4kM18x2jygGK",
        "outputId": "e20a175c-a5cc-4f79-9901-fa107f1f8e06"
      },
      "execution_count": 65,
      "outputs": [
        {
          "output_type": "execute_result",
          "data": {
            "text/plain": [
              "array([[-0.13249842,  0.58998188, -0.76867065,  1.37256217],\n",
              "       [-0.51141529,  1.43566729,  0.85527238,  0.3900393 ]])"
            ]
          },
          "metadata": {},
          "execution_count": 65
        }
      ]
    },
    {
      "cell_type": "code",
      "source": [
        "mask = data<0 # data dagi 0 dan kichik elementlar indexlarini olish"
      ],
      "metadata": {
        "id": "nu0r3rvDzP-K"
      },
      "execution_count": 69,
      "outputs": []
    },
    {
      "cell_type": "code",
      "source": [
        "data[mask] = 0 # 0 dan kichik elementlarni 0 ga tenglash"
      ],
      "metadata": {
        "id": "pollYtmw0Bgh"
      },
      "execution_count": 70,
      "outputs": []
    },
    {
      "cell_type": "code",
      "source": [
        "data"
      ],
      "metadata": {
        "colab": {
          "base_uri": "https://localhost:8080/"
        },
        "id": "nLsfLTBz0Ewa",
        "outputId": "c2682ece-6587-4a69-9dc4-14f32ee99f41"
      },
      "execution_count": 71,
      "outputs": [
        {
          "output_type": "execute_result",
          "data": {
            "text/plain": [
              "array([[0.44618237, 0.16227232, 0.9816614 , 0.5259195 ],\n",
              "       [0.        , 0.58998188, 0.        , 1.37256217],\n",
              "       [0.30307075, 0.37463983, 0.77651861, 0.78088023],\n",
              "       [2.05114987, 1.99162582, 0.81463679, 0.63103198],\n",
              "       [0.        , 0.82667376, 0.492443  , 0.35167432],\n",
              "       [0.        , 1.43566729, 0.85527238, 0.3900393 ],\n",
              "       [0.        , 0.        , 0.        , 2.03498687]])"
            ]
          },
          "metadata": {},
          "execution_count": 71
        }
      ]
    },
    {
      "cell_type": "code",
      "source": [
        ""
      ],
      "metadata": {
        "id": "ZfHSDAh60FjY"
      },
      "execution_count": null,
      "outputs": []
    }
  ]
}